{
  "nbformat": 4,
  "nbformat_minor": 0,
  "metadata": {
    "colab": {
      "provenance": [],
      "authorship_tag": "ABX9TyP/qs7CFaka+BCJvktcYR8y",
      "include_colab_link": true
    },
    "kernelspec": {
      "name": "python3",
      "display_name": "Python 3"
    },
    "language_info": {
      "name": "python"
    }
  },
  "cells": [
    {
      "cell_type": "markdown",
      "metadata": {
        "id": "view-in-github",
        "colab_type": "text"
      },
      "source": [
        "<a href=\"https://colab.research.google.com/github/alisajid4041/atm_console_app/blob/master/Scrape_Baseball_Reference.ipynb\" target=\"_parent\"><img src=\"https://colab.research.google.com/assets/colab-badge.svg\" alt=\"Open In Colab\"/></a>"
      ]
    },
    {
      "cell_type": "code",
      "execution_count": 126,
      "metadata": {
        "colab": {
          "base_uri": "https://localhost:8080/"
        },
        "id": "6xV-oKk1yROr",
        "outputId": "ccc8059f-9041-4318-8112-d289b9b19c31"
      },
      "outputs": [
        {
          "output_type": "stream",
          "name": "stdout",
          "text": [
            "<table class=\"sortable stats_table\" data-cols-to-freeze=\",1\" id=\"league_batting\">\n",
            "<caption>League Batting</caption>\n",
            "<colgroup><col/><col/><col/><col/><col/><col/><col/><col/><col/><col/><col/><col/><col/><col/><col/><col/><col/><col/><col/><col/><col/><col/><col/><col/><col/><col/><col/></colgroup>\n",
            "<thead>\n",
            "<tr>\n",
            "<th aria-label=\"Tm\" class=\"poptip sort_default_asc show_partial_when_sorting center\" data-stat=\"team_ID\" scope=\"col\">Tm</th>\n",
            "<th aria-label=\"Aff\" class=\"poptip sort_default_asc center\" data-stat=\"affiliation\" data-tip=\"&lt;strong&gt;Affiliation&lt;/strong&gt;&lt;br&gt;Major league franchise(s) that either owns this affiliate or has an agreement with this team.\" scope=\"col\">Aff</th>\n",
            "<th aria-label=\"BatAge\" class=\"poptip sort_default_asc center\" data-stat=\"age_bat\" data-tip=\"&lt;strong&gt;Batters&amp;#x2019; average age&lt;/strong&gt;&lt;br&gt;Weighted by AB + Games Played\" scope=\"col\">BatAge</th>\n",
            "<th aria-label=\"Runs Scored/Game\" class=\"poptip center\" data-stat=\"runs_per_game\" data-tip=\"Runs Scored Per Game\" scope=\"col\">R/G</th>\n",
            "<th aria-label=\"Games Played\" class=\"poptip center\" data-stat=\"G\" data-tip=\"Games Played or Pitched\" scope=\"col\">G</th>\n",
            "<th aria-label=\"Plate Appearances\" class=\"poptip center\" data-stat=\"PA\" data-tip=\"&lt;strong&gt;Plate Appearances&lt;/strong&gt;&lt;br&gt;When available, we use actual plate appearances from play-by-play game accounts&lt;br&gt;Otherwise estimated using AB + BB + HBP + SF + SH,&lt;br&gt;which excludes catcher interferences.&lt;br&gt;When &lt;span class=tooltip&gt;this color&lt;/span&gt; click for a summary of each PA.\" scope=\"col\">PA</th>\n",
            "<th aria-label=\"At Bats\" class=\"poptip center\" data-stat=\"AB\" data-tip=\"At Bats\" scope=\"col\">AB</th>\n",
            "<th aria-label=\"Runs Scored\" class=\"poptip center\" data-stat=\"R\" data-tip=\"Runs Scored/Allowed\" scope=\"col\">R</th>\n",
            "<th aria-label=\"Hits\" class=\"poptip center\" data-stat=\"H\" data-tip=\"Hits/Hits Allowed\" scope=\"col\">H</th>\n",
            "<th aria-label=\"Doubles\" class=\"poptip center\" data-stat=\"2B\" data-tip=\"Doubles Hit/Allowed\" scope=\"col\">2B</th>\n",
            "<th aria-label=\"Triples\" class=\"poptip center\" data-stat=\"3B\" data-tip=\"Triples Hit/Allowed\" scope=\"col\">3B</th>\n",
            "<th aria-label=\"Home Runs\" class=\"poptip center\" data-stat=\"HR\" data-tip=\"Home Runs Hit/Allowed\" scope=\"col\">HR</th>\n",
            "<th aria-label=\"Runs Batted In\" class=\"poptip center\" data-stat=\"RBI\" data-tip=\"Runs Batted In\" scope=\"col\">RBI</th>\n",
            "<th aria-label=\"Stolen Bases\" class=\"poptip center\" data-stat=\"SB\" data-tip=\"Stolen Bases\" scope=\"col\">SB</th>\n",
            "<th aria-label=\"Caught Stealing\" class=\"poptip center\" data-stat=\"CS\" data-tip=\"Caught Stealing\" scope=\"col\">CS</th>\n",
            "<th aria-label=\"Bases on Balls\" class=\"poptip center\" data-stat=\"BB\" data-tip=\"Bases on Balls/Walks\" scope=\"col\">BB</th>\n",
            "<th aria-label=\"Strikeouts\" class=\"poptip center\" data-stat=\"SO\" data-tip=\"Strikeouts\" scope=\"col\">SO</th>\n",
            "<th aria-label=\"Batting Average\" class=\"poptip hide_non_quals center\" data-filter=\"1\" data-name=\"Batting Average\" data-stat=\"batting_avg\" data-tip='&lt;strong&gt;Hits/At Bats&lt;/strong&gt;&lt;br&gt;For recent years, leaders need 3.1 PA&lt;br&gt;per team game played&lt;br&gt;Bold indicates highest BA using current stats&lt;br&gt;&lt;span class=\"all_time_record\"&gt;Gold&lt;/span&gt; means awarded title at end of year.' scope=\"col\">BA</th>\n",
            "<th aria-label=\"On-Base%\" class=\"poptip hide_non_quals center\" data-filter=\"1\" data-name=\"On-Base%\" data-stat=\"onbase_perc\" data-tip=\"&lt;strong&gt;(H + BB + HBP)/(At Bats + BB + HBP + SF)&lt;/strong&gt;&lt;br&gt;For recent years, leaders need 3.1 PA&lt;br&gt;per team game played\" scope=\"col\">OBP</th>\n",
            "<th aria-label=\"Slugging %\" class=\"poptip hide_non_quals center\" data-filter=\"1\" data-name=\"Slugging %\" data-stat=\"slugging_perc\" data-tip=\"&lt;strong&gt;Total Bases/At Bats or &lt;br&gt;(1B + 2*2B + 3*3B + 4*HR)/AB&lt;/strong&gt;&lt;br&gt;For recent years, leaders need 3.1 PA&lt;br&gt;per team game played\" scope=\"col\">SLG</th>\n",
            "<th aria-label=\"On-Base Plus Slugging\" class=\"poptip hide_non_quals center\" data-filter=\"1\" data-name=\"On-Base Plus Slugging\" data-stat=\"onbase_plus_slugging\" data-tip=\"&lt;strong&gt;On-Base + Slugging Percentages &lt;/strong&gt;&lt;br&gt;For recent years, leaders need 3.1 PA&lt;br&gt;per team game played\" scope=\"col\">OPS</th>\n",
            "<th aria-label=\"Total Bases\" class=\"poptip center\" data-stat=\"TB\" data-tip=\"&lt;strong&gt;Total Bases&lt;/strong&gt;&lt;br&gt;Singles + 2 x Doubles + 3 x Triples + 4 x Home Runs.\" scope=\"col\">TB</th>\n",
            "<th aria-label=\"Double Plays Grounded Into\" class=\"poptip center\" data-stat=\"GIDP\" data-tip=\"&lt;strong&gt;Double Plays Grounded Into&lt;/strong&gt;&lt;br&gt;Only includes standard 6-4-3, 4-3, etc. double plays.&lt;br&gt;First tracked in 1933.&lt;br&gt;For gamelogs only in seasons we have play-by-play, we include triple plays as well.&lt;br&gt;All official seasonal totals do not include GITP's.\" scope=\"col\">GDP</th>\n",
            "<th aria-label=\"Hit By Pitch\" class=\"poptip center\" data-stat=\"HBP\" data-tip=\"Times Hit by a Pitch.\" scope=\"col\">HBP</th>\n",
            "<th aria-label=\"Sacrifice Hits\" class=\"poptip center\" data-stat=\"SH\" data-tip=\"Sacrifice Hits (Sacrifice Bunts)\" scope=\"col\">SH</th>\n",
            "<th aria-label=\"Sacrifice Flies\" class=\"poptip center\" data-stat=\"SF\" data-tip=\"&lt;strong&gt;Sacrifice Flies&lt;/strong&gt;&lt;br&gt;First tracked in 1954.\" scope=\"col\">SF</th>\n",
            "<th aria-label=\"Intentional Bases on Balls\" class=\"poptip center\" data-stat=\"IBB\" data-tip=\"&lt;strong&gt;Intentional Bases on Balls&lt;/strong&gt;&lt;br&gt;First tracked in 1955.\" scope=\"col\">IBB</th>\n",
            "</tr>\n",
            "</thead>\n",
            "<tbody><tr><th class=\"left\" data-stat=\"team_ID\" scope=\"row\"><a href=\"/register/team.cgi?id=a08ba1a9\" title=\"YKO\">Yokohama Bay Stars</a></th><td class=\"left iz\" data-stat=\"affiliation\"></td><td class=\"right\" data-stat=\"age_bat\">28.0</td><td class=\"right\" data-stat=\"runs_per_game\">3.56</td><td class=\"right\" data-stat=\"G\">114</td><td class=\"right\" data-stat=\"PA\">4288</td><td class=\"right\" data-stat=\"AB\">3875</td><td class=\"right\" data-stat=\"R\">406</td><td class=\"right\" data-stat=\"H\">988</td><td class=\"right\" data-stat=\"2B\">190</td><td class=\"right\" data-stat=\"3B\">14</td><td class=\"right\" data-stat=\"HR\">84</td><td class=\"right\" data-stat=\"RBI\">396</td><td class=\"right\" data-stat=\"SB\">50</td><td class=\"right\" data-stat=\"CS\">24</td><td class=\"right\" data-stat=\"BB\">286</td><td class=\"right\" data-stat=\"SO\">731</td><td class=\"right\" data-stat=\"batting_avg\">.255</td><td class=\"right\" data-stat=\"onbase_perc\">.312</td><td class=\"right\" data-stat=\"slugging_perc\">.376</td><td class=\"right\" data-stat=\"onbase_plus_slugging\">.688</td><td class=\"right\" data-stat=\"TB\">1458</td><td class=\"right\" data-stat=\"GIDP\">95</td><td class=\"right\" data-stat=\"HBP\">45</td><td class=\"right\" data-stat=\"SH\">59</td><td class=\"right\" data-stat=\"SF\">23</td><td class=\"right\" data-stat=\"IBB\">30</td></tr>\n",
            "<tr><th class=\"left\" data-stat=\"team_ID\" scope=\"row\"><a href=\"/register/team.cgi?id=77207d16\" title=\"YKU\">Yakult Swallows</a></th><td class=\"left iz\" data-stat=\"affiliation\"></td><td class=\"right\" data-stat=\"age_bat\">28.4</td><td class=\"right\" data-stat=\"runs_per_game\">3.54</td><td class=\"right\" data-stat=\"G\">113</td><td class=\"right\" data-stat=\"PA\">4207</td><td class=\"right\" data-stat=\"AB\">3681</td><td class=\"right\" data-stat=\"R\">400</td><td class=\"right\" data-stat=\"H\">884</td><td class=\"right\" data-stat=\"2B\">131</td><td class=\"right\" data-stat=\"3B\">8</td><td class=\"right\" data-stat=\"HR\">79</td><td class=\"right\" data-stat=\"RBI\">381</td><td class=\"right\" data-stat=\"SB\">53</td><td class=\"right\" data-stat=\"CS\">12</td><td class=\"right\" data-stat=\"BB\">350</td><td class=\"right\" data-stat=\"SO\">821</td><td class=\"right\" data-stat=\"batting_avg\">.240</td><td class=\"right\" data-stat=\"onbase_perc\">.310</td><td class=\"right\" data-stat=\"slugging_perc\">.345</td><td class=\"right\" data-stat=\"onbase_plus_slugging\">.654</td><td class=\"right\" data-stat=\"TB\">1268</td><td class=\"right\" data-stat=\"GIDP\">83</td><td class=\"right\" data-stat=\"HBP\">33</td><td class=\"right\" data-stat=\"SH\">113</td><td class=\"right\" data-stat=\"SF\">30</td><td class=\"right\" data-stat=\"IBB\">27</td></tr>\n",
            "<tr><th class=\"left\" data-stat=\"team_ID\" scope=\"row\"><a href=\"/register/team.cgi?id=b5775215\" title=\"HAN\">Hanshin Tigers</a></th><td class=\"left iz\" data-stat=\"affiliation\"></td><td class=\"right\" data-stat=\"age_bat\">27.5</td><td class=\"right\" data-stat=\"runs_per_game\">3.25</td><td class=\"right\" data-stat=\"G\">117</td><td class=\"right\" data-stat=\"PA\">4353</td><td class=\"right\" data-stat=\"AB\">3837</td><td class=\"right\" data-stat=\"R\">380</td><td class=\"right\" data-stat=\"H\">910</td><td class=\"right\" data-stat=\"2B\">138</td><td class=\"right\" data-stat=\"3B\">15</td><td class=\"right\" data-stat=\"HR\">51</td><td class=\"right\" data-stat=\"RBI\">370</td><td class=\"right\" data-stat=\"SB\">34</td><td class=\"right\" data-stat=\"CS\">29</td><td class=\"right\" data-stat=\"BB\">365</td><td class=\"right\" data-stat=\"SO\">841</td><td class=\"right\" data-stat=\"batting_avg\">.237</td><td class=\"right\" data-stat=\"onbase_perc\">.309</td><td class=\"right\" data-stat=\"slugging_perc\">.321</td><td class=\"right\" data-stat=\"onbase_plus_slugging\">.630</td><td class=\"right\" data-stat=\"TB\">1231</td><td class=\"right\" data-stat=\"GIDP\">103</td><td class=\"right\" data-stat=\"HBP\">43</td><td class=\"right\" data-stat=\"SH\">88</td><td class=\"right\" data-stat=\"SF\">20</td><td class=\"right\" data-stat=\"IBB\">17</td></tr>\n",
            "<tr><th class=\"left\" data-stat=\"team_ID\" scope=\"row\"><a href=\"/register/team.cgi?id=8658f55b\" title=\"YOM\">Yomiuri Giants</a></th><td class=\"left iz\" data-stat=\"affiliation\"></td><td class=\"right\" data-stat=\"age_bat\">28.8</td><td class=\"right\" data-stat=\"runs_per_game\">3.06</td><td class=\"right\" data-stat=\"G\">115</td><td class=\"right\" data-stat=\"PA\">4261</td><td class=\"right\" data-stat=\"AB\">3782</td><td class=\"right\" data-stat=\"R\">352</td><td class=\"right\" data-stat=\"H\">913</td><td class=\"right\" data-stat=\"2B\">164</td><td class=\"right\" data-stat=\"3B\">13</td><td class=\"right\" data-stat=\"HR\">62</td><td class=\"right\" data-stat=\"RBI\">341</td><td class=\"right\" data-stat=\"SB\">49</td><td class=\"right\" data-stat=\"CS\">23</td><td class=\"right\" data-stat=\"BB\">331</td><td class=\"right\" data-stat=\"SO\">784</td><td class=\"right\" data-stat=\"batting_avg\">.241</td><td class=\"right\" data-stat=\"onbase_perc\">.305</td><td class=\"right\" data-stat=\"slugging_perc\">.341</td><td class=\"right\" data-stat=\"onbase_plus_slugging\">.646</td><td class=\"right\" data-stat=\"TB\">1289</td><td class=\"right\" data-stat=\"GIDP\">79</td><td class=\"right\" data-stat=\"HBP\">27</td><td class=\"right\" data-stat=\"SH\">97</td><td class=\"right\" data-stat=\"SF\">24</td><td class=\"right\" data-stat=\"IBB\">24</td></tr>\n",
            "<tr><th class=\"left\" data-stat=\"team_ID\" scope=\"row\"><a href=\"/register/team.cgi?id=61668f2b\" title=\"HIR\">Hiroshima Carp</a></th><td class=\"left iz\" data-stat=\"affiliation\"></td><td class=\"right\" data-stat=\"age_bat\">29.1</td><td class=\"right\" data-stat=\"runs_per_game\">3.01</td><td class=\"right\" data-stat=\"G\">110</td><td class=\"right\" data-stat=\"PA\">3996</td><td class=\"right\" data-stat=\"AB\">3621</td><td class=\"right\" data-stat=\"R\">331</td><td class=\"right\" data-stat=\"H\">865</td><td class=\"right\" data-stat=\"2B\">126</td><td class=\"right\" data-stat=\"3B\">16</td><td class=\"right\" data-stat=\"HR\">45</td><td class=\"right\" data-stat=\"RBI\">309</td><td class=\"right\" data-stat=\"SB\">48</td><td class=\"right\" data-stat=\"CS\">48</td><td class=\"right\" data-stat=\"BB\">221</td><td class=\"right\" data-stat=\"SO\">771</td><td class=\"right\" data-stat=\"batting_avg\">.239</td><td class=\"right\" data-stat=\"onbase_perc\">.288</td><td class=\"right\" data-stat=\"slugging_perc\">.320</td><td class=\"right\" data-stat=\"onbase_plus_slugging\">.608</td><td class=\"right\" data-stat=\"TB\">1158</td><td class=\"right\" data-stat=\"GIDP\">66</td><td class=\"right\" data-stat=\"HBP\">38</td><td class=\"right\" data-stat=\"SH\">96</td><td class=\"right\" data-stat=\"SF\">20</td><td class=\"right\" data-stat=\"IBB\">19</td></tr>\n",
            "<tr><th class=\"left\" data-stat=\"team_ID\" scope=\"row\"><a href=\"/register/team.cgi?id=95ebc0fd\" title=\"CNI\">Chunichi Dragons</a></th><td class=\"left iz\" data-stat=\"affiliation\"></td><td class=\"right\" data-stat=\"age_bat\">27.8</td><td class=\"right\" data-stat=\"runs_per_game\">2.59</td><td class=\"right\" data-stat=\"G\">117</td><td class=\"right\" data-stat=\"PA\">4328</td><td class=\"right\" data-stat=\"AB\">3927</td><td class=\"right\" data-stat=\"R\">303</td><td class=\"right\" data-stat=\"H\">938</td><td class=\"right\" data-stat=\"2B\">143</td><td class=\"right\" data-stat=\"3B\">14</td><td class=\"right\" data-stat=\"HR\">49</td><td class=\"right\" data-stat=\"RBI\">290</td><td class=\"right\" data-stat=\"SB\">34</td><td class=\"right\" data-stat=\"CS\">22</td><td class=\"right\" data-stat=\"BB\">268</td><td class=\"right\" data-stat=\"SO\">844</td><td class=\"right\" data-stat=\"batting_avg\">.239</td><td class=\"right\" data-stat=\"onbase_perc\">.290</td><td class=\"right\" data-stat=\"slugging_perc\">.320</td><td class=\"right\" data-stat=\"onbase_plus_slugging\">.610</td><td class=\"right\" data-stat=\"TB\">1256</td><td class=\"right\" data-stat=\"GIDP\">84</td><td class=\"right\" data-stat=\"HBP\">23</td><td class=\"right\" data-stat=\"SH\">92</td><td class=\"right\" data-stat=\"SF\">18</td><td class=\"right\" data-stat=\"IBB\">19</td></tr>\n",
            "</tbody><tfoot><tr><th class=\"left\" data-stat=\"team_ID\" scope=\"row\">League Totals</th><td class=\"left iz\" data-stat=\"affiliation\"></td><td class=\"right\" data-stat=\"age_bat\">28.3</td><td class=\"right\" data-stat=\"runs_per_game\">3.17</td><td class=\"right\" data-stat=\"G\">686</td><td class=\"right\" data-stat=\"PA\">25433</td><td class=\"right\" data-stat=\"AB\">22723</td><td class=\"right\" data-stat=\"R\">2172</td><td class=\"right\" data-stat=\"H\">5498</td><td class=\"right\" data-stat=\"2B\">892</td><td class=\"right\" data-stat=\"3B\">80</td><td class=\"right\" data-stat=\"HR\">370</td><td class=\"right\" data-stat=\"RBI\">2087</td><td class=\"right\" data-stat=\"SB\">268</td><td class=\"right\" data-stat=\"CS\">158</td><td class=\"right\" data-stat=\"BB\">1821</td><td class=\"right\" data-stat=\"SO\">4792</td><td class=\"right\" data-stat=\"batting_avg\">.242</td><td class=\"right\" data-stat=\"onbase_perc\">.303</td><td class=\"right\" data-stat=\"slugging_perc\">.337</td><td class=\"right\" data-stat=\"onbase_plus_slugging\">.640</td><td class=\"right\" data-stat=\"TB\">7660</td><td class=\"right\" data-stat=\"GIDP\">510</td><td class=\"right\" data-stat=\"HBP\">209</td><td class=\"right\" data-stat=\"SH\">545</td><td class=\"right\" data-stat=\"SF\">135</td><td class=\"right\" data-stat=\"IBB\">136</td></tr>\n",
            "</tfoot>\n",
            "</table>\n"
          ]
        }
      ],
      "source": [
        "from urllib.request import Request, urlopen\n",
        "from urllib.parse import urlparse\n",
        "from bs4 import BeautifulSoup,Comment\n",
        "\n",
        "from typing import List, NamedTuple\n",
        "\n",
        "url = \"https://www.baseball-reference.com/register/league.cgi?id=5e1f8b77\"\n",
        "request = Request(\n",
        "    url,\n",
        "    headers={'User-Agent': 'Mozilla/5.0'}\n",
        ")\n",
        "page = urlopen(request)\n",
        "page_content_bytes = page.read()\n",
        "page_html = page_content_bytes.decode('utf-8')\n",
        "\n",
        "soup = BeautifulSoup(page_html, \"html.parser\")\n",
        "\n",
        "new_soup = \"\"\n",
        "for c in soup.find_all(string=Comment):\n",
        "    new_soup += c if c.strip().startswith(\"<\") else \"\"\n",
        "\n",
        "new_soup = BeautifulSoup(new_soup, \"html.parser\")\n",
        "table = new_soup.find(\"table\",id=\"league_batting\")\n",
        "print(table)"
      ]
    },
    {
      "cell_type": "code",
      "source": [
        "import pandas as pd\n",
        "from urllib.request import Request, urlopen\n",
        "from urllib.parse import urlparse\n",
        "from bs4 import BeautifulSoup,Comment\n",
        "from typing import List, NamedTuple\n",
        "\n",
        "\n",
        "url = \"https://www.baseball-reference.com/register/league.cgi?id=5e1f8b77\"\n",
        "request = Request(\n",
        "    url,\n",
        "    headers={'User-Agent': 'Mozilla/5.0'}\n",
        ")\n",
        "page = urlopen(request)\n",
        "page_content_bytes = page.read()\n",
        "page_html = page_content_bytes.decode('utf-8')\n",
        "\n",
        "soup = BeautifulSoup(page_html, \"html.parser\")\n",
        "\n",
        "new_soup = \"\"\n",
        "for c in soup.find_all(string=Comment):\n",
        "    new_soup += c if c.strip().startswith(\"<\") else \"\"\n",
        "\n",
        "new_soup = BeautifulSoup(new_soup, \"html.parser\")\n",
        "table = new_soup.find(\"table\",id=\"league_batting\")\n",
        "\n",
        "headers = []\n",
        "for header in table.find(\"thead\").find_all(\"th\"):\n",
        "  headers.append(header.text)\n",
        "\n",
        "df = pd.DataFrame(columns=headers)\n",
        "print(df)\n"
      ],
      "metadata": {
        "colab": {
          "base_uri": "https://localhost:8080/"
        },
        "id": "FgMMcBnnyqTv",
        "outputId": "f630539a-ddb7-4198-9c1b-43300c355970"
      },
      "execution_count": 127,
      "outputs": [
        {
          "output_type": "stream",
          "name": "stdout",
          "text": [
            "Empty DataFrame\n",
            "Columns: [Tm, Aff, BatAge, R/G, G, PA, AB, R, H, 2B, 3B, HR, RBI, SB, CS, BB, SO, BA, OBP, SLG, OPS, TB, GDP, HBP, SH, SF, IBB]\n",
            "Index: []\n",
            "\n",
            "[0 rows x 27 columns]\n"
          ]
        }
      ]
    },
    {
      "cell_type": "code",
      "source": [
        "team_rows = table.find(\"tbody\").find_all(\"tr\")\n",
        "print(team_rows[0])"
      ],
      "metadata": {
        "colab": {
          "base_uri": "https://localhost:8080/"
        },
        "id": "sMZs_g6n0cq-",
        "outputId": "1bba74dc-6dd8-4b14-aac8-db50eafe87d1"
      },
      "execution_count": 128,
      "outputs": [
        {
          "output_type": "stream",
          "name": "stdout",
          "text": [
            "<tr><th class=\"left\" data-stat=\"team_ID\" scope=\"row\"><a href=\"/register/team.cgi?id=a08ba1a9\" title=\"YKO\">Yokohama Bay Stars</a></th><td class=\"left iz\" data-stat=\"affiliation\"></td><td class=\"right\" data-stat=\"age_bat\">28.0</td><td class=\"right\" data-stat=\"runs_per_game\">3.56</td><td class=\"right\" data-stat=\"G\">114</td><td class=\"right\" data-stat=\"PA\">4288</td><td class=\"right\" data-stat=\"AB\">3875</td><td class=\"right\" data-stat=\"R\">406</td><td class=\"right\" data-stat=\"H\">988</td><td class=\"right\" data-stat=\"2B\">190</td><td class=\"right\" data-stat=\"3B\">14</td><td class=\"right\" data-stat=\"HR\">84</td><td class=\"right\" data-stat=\"RBI\">396</td><td class=\"right\" data-stat=\"SB\">50</td><td class=\"right\" data-stat=\"CS\">24</td><td class=\"right\" data-stat=\"BB\">286</td><td class=\"right\" data-stat=\"SO\">731</td><td class=\"right\" data-stat=\"batting_avg\">.255</td><td class=\"right\" data-stat=\"onbase_perc\">.312</td><td class=\"right\" data-stat=\"slugging_perc\">.376</td><td class=\"right\" data-stat=\"onbase_plus_slugging\">.688</td><td class=\"right\" data-stat=\"TB\">1458</td><td class=\"right\" data-stat=\"GIDP\">95</td><td class=\"right\" data-stat=\"HBP\">45</td><td class=\"right\" data-stat=\"SH\">59</td><td class=\"right\" data-stat=\"SF\">23</td><td class=\"right\" data-stat=\"IBB\">30</td></tr>\n"
          ]
        }
      ]
    },
    {
      "cell_type": "code",
      "source": [
        "row = []\n",
        "for x in range(0, 6):\n",
        "  row = []\n",
        "  for cell in team_rows[x].find_all(['th','td']):\n",
        "    row.append(cell.text)\n",
        "  df.loc[len(df)] = row\n",
        "print(df)\n"
      ],
      "metadata": {
        "colab": {
          "base_uri": "https://localhost:8080/"
        },
        "id": "yaehaYpP_qeR",
        "outputId": "c2603d5b-244a-4fab-d5ed-def564936b11"
      },
      "execution_count": 129,
      "outputs": [
        {
          "output_type": "stream",
          "name": "stdout",
          "text": [
            "                   Tm Aff BatAge   R/G    G    PA    AB    R    H   2B  ...  \\\n",
            "0  Yokohama Bay Stars       28.0  3.56  114  4288  3875  406  988  190  ...   \n",
            "1     Yakult Swallows       28.4  3.54  113  4207  3681  400  884  131  ...   \n",
            "2      Hanshin Tigers       27.5  3.25  117  4353  3837  380  910  138  ...   \n",
            "3      Yomiuri Giants       28.8  3.06  115  4261  3782  352  913  164  ...   \n",
            "4      Hiroshima Carp       29.1  3.01  110  3996  3621  331  865  126  ...   \n",
            "5    Chunichi Dragons       27.8  2.59  117  4328  3927  303  938  143  ...   \n",
            "\n",
            "     BA   OBP   SLG   OPS    TB  GDP HBP   SH  SF IBB  \n",
            "0  .255  .312  .376  .688  1458   95  45   59  23  30  \n",
            "1  .240  .310  .345  .654  1268   83  33  113  30  27  \n",
            "2  .237  .309  .321  .630  1231  103  43   88  20  17  \n",
            "3  .241  .305  .341  .646  1289   79  27   97  24  24  \n",
            "4  .239  .288  .320  .608  1158   66  38   96  20  19  \n",
            "5  .239  .290  .320  .610  1256   84  23   92  18  19  \n",
            "\n",
            "[6 rows x 27 columns]\n"
          ]
        }
      ]
    },
    {
      "cell_type": "code",
      "source": [
        "\n",
        "from google.colab import files\n",
        "\n",
        "df.to_csv('league_batting.csv')\n",
        "files.download('league_batting.csv')\n"
      ],
      "metadata": {
        "colab": {
          "base_uri": "https://localhost:8080/",
          "height": 17
        },
        "id": "VeLxVqwL_yXF",
        "outputId": "7c0ddcbb-42f6-433f-8b82-834664be8d35"
      },
      "execution_count": 131,
      "outputs": [
        {
          "output_type": "display_data",
          "data": {
            "text/plain": [
              "<IPython.core.display.Javascript object>"
            ],
            "application/javascript": [
              "\n",
              "    async function download(id, filename, size) {\n",
              "      if (!google.colab.kernel.accessAllowed) {\n",
              "        return;\n",
              "      }\n",
              "      const div = document.createElement('div');\n",
              "      const label = document.createElement('label');\n",
              "      label.textContent = `Downloading \"${filename}\": `;\n",
              "      div.appendChild(label);\n",
              "      const progress = document.createElement('progress');\n",
              "      progress.max = size;\n",
              "      div.appendChild(progress);\n",
              "      document.body.appendChild(div);\n",
              "\n",
              "      const buffers = [];\n",
              "      let downloaded = 0;\n",
              "\n",
              "      const channel = await google.colab.kernel.comms.open(id);\n",
              "      // Send a message to notify the kernel that we're ready.\n",
              "      channel.send({})\n",
              "\n",
              "      for await (const message of channel.messages) {\n",
              "        // Send a message to notify the kernel that we're ready.\n",
              "        channel.send({})\n",
              "        if (message.buffers) {\n",
              "          for (const buffer of message.buffers) {\n",
              "            buffers.push(buffer);\n",
              "            downloaded += buffer.byteLength;\n",
              "            progress.value = downloaded;\n",
              "          }\n",
              "        }\n",
              "      }\n",
              "      const blob = new Blob(buffers, {type: 'application/binary'});\n",
              "      const a = document.createElement('a');\n",
              "      a.href = window.URL.createObjectURL(blob);\n",
              "      a.download = filename;\n",
              "      div.appendChild(a);\n",
              "      a.click();\n",
              "      div.remove();\n",
              "    }\n",
              "  "
            ]
          },
          "metadata": {}
        },
        {
          "output_type": "display_data",
          "data": {
            "text/plain": [
              "<IPython.core.display.Javascript object>"
            ],
            "application/javascript": [
              "download(\"download_21af4852-6afa-4878-8126-c27810b4557e\", \"league_batting.csv\", 808)"
            ]
          },
          "metadata": {}
        }
      ]
    }
  ]
}